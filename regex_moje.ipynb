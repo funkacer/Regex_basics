{
 "cells": [
  {
   "cell_type": "markdown",
   "metadata": {},
   "source": [
    "# Regulární výrazy"
   ]
  },
  {
   "cell_type": "markdown",
   "metadata": {},
   "source": [
    "> Some people, when confronted with a problem, think “I know, I'll use regular expressions.”   \n",
    "> Now they have two problems."
   ]
  },
  {
   "cell_type": "markdown",
   "metadata": {},
   "source": [
    "## Trocha teorie"
   ]
  },
  {
   "cell_type": "markdown",
   "metadata": {},
   "source": [
    "- Regulární výrazy umožňují exaktně popsat množinu textových řetězců odpovídající hledanému výrazu či jevu\n",
    "- Zjednodušeně řečeno se jedná o vkládání určitých speciálních znaků se zvláštním významem do slov, která chceme vyhledat.\n",
    "- Uplatnění v mnoha programovacích jazycích (především skriptovacích jako Python, PHP, Perl, JavaScript)  \n",
    "\n",
    "\n",
    "\n",
    "\n",
    "\n",
    "- Počítač regulární výrazy vyhodnocuje sestavením konečného automatu (velice jednoduchý počítač, který může být v jednom z několika stavů, mezi kterými přechází na základě symbolů, které čte ze vstupu)  \n",
    "- Automat pracuje po krocích - v každém kroku načte jeden znak ze vstupu  \n",
    "- Pokud ze stavu existuje přechod odpovídající načtenému znaku, automat přejde do nového stavu a pokračuje dalším znakem. V opačném případě se znova inicializuje a načte další znak.   \n",
    "- Opakuje to tak dlouho, dokud daný vstup celý nenačte nebo neskončí v koncovém stavu.  "
   ]
  },
  {
   "cell_type": "markdown",
   "metadata": {},
   "source": [
    "(www\\.[a-z]*\\.(cz|sk))"
   ]
  },
  {
   "cell_type": "markdown",
   "metadata": {},
   "source": [
    "<img src=\"img/automat.png\" width=600 height=600 />"
   ]
  },
  {
   "cell_type": "markdown",
   "metadata": {},
   "source": [
    "## Využití"
   ]
  },
  {
   "cell_type": "markdown",
   "metadata": {},
   "source": [
    "- parsing user input\n",
    "- parsing text files\n",
    "- finding text in emails\n",
    "- reading configuration files\n",
    "- search and replace strings in general\n",
    "- etc ..."
   ]
  },
  {
   "cell_type": "markdown",
   "metadata": {},
   "source": [
    "## Přehled nejdůležitějších zkratek"
   ]
  },
  {
   "cell_type": "markdown",
   "metadata": {},
   "source": [
    "- viz snippets.txt"
   ]
  },
  {
   "cell_type": "markdown",
   "metadata": {},
   "source": [
    "## 1. Intro"
   ]
  },
  {
   "cell_type": "markdown",
   "metadata": {},
   "source": [
    "*The first thing to recognize when using regular expressions is that everything is essentially a character, and we are writing patterns to match a specific sequence of characters (also known as a string). Most patterns use normal ASCII, which includes letters, digits, punctuation and other symbols on your keyboard like %#$@!, but unicode characters can also be used to match any type of international text.*"
   ]
  },
  {
   "cell_type": "code",
   "execution_count": 1,
   "metadata": {},
   "outputs": [],
   "source": [
    "import re"
   ]
  },
  {
   "cell_type": "code",
   "execution_count": 2,
   "metadata": {},
   "outputs": [],
   "source": [
    "text = '''\n",
    "abcdefg\n",
    "abcde\n",
    "abc\n",
    "'''"
   ]
  },
  {
   "cell_type": "markdown",
   "metadata": {},
   "source": [
    "**re.match(pattern, string)** function of re in Python will search the regular expression pattern and return the first occurrence. The Python RegEx Match method checks for a match only at the beginning of the string. So, if a match is found in the first line, it returns the match object. But if a match is found in some other line, the Python RegEx Match function returns null."
   ]
  },
  {
   "cell_type": "code",
   "execution_count": 3,
   "metadata": {},
   "outputs": [],
   "source": [
    "match = re.match(r'abc' , text)\n",
    "match"
   ]
  },
  {
   "cell_type": "markdown",
   "metadata": {},
   "source": [
    "**re.search(pattern, string)** function will search the regular expression pattern and return the first occurrence. Unlike Python re.match(), it will check all lines of the input string. The Python re.search() function returns a match object when the pattern is found and “null” if the pattern is not found"
   ]
  },
  {
   "cell_type": "code",
   "execution_count": 4,
   "metadata": {},
   "outputs": [
    {
     "data": {
      "text/plain": [
       "<re.Match object; span=(1, 4), match='abc'>"
      ]
     },
     "execution_count": 4,
     "metadata": {},
     "output_type": "execute_result"
    }
   ],
   "source": [
    "match = re.search(r'abc' , text)\n",
    "match"
   ]
  },
  {
   "cell_type": "code",
   "execution_count": 9,
   "metadata": {},
   "outputs": [
    {
     "data": {
      "text/plain": [
       "'abc'"
      ]
     },
     "execution_count": 9,
     "metadata": {},
     "output_type": "execute_result"
    }
   ],
   "source": [
    "str(match)"
   ]
  },
  {
   "cell_type": "code",
   "execution_count": 12,
   "metadata": {},
   "outputs": [
    {
     "ename": "AttributeError",
     "evalue": "'str' object has no attribute 'span'",
     "output_type": "error",
     "traceback": [
      "\u001b[1;31m---------------------------------------------------------------------------\u001b[0m",
      "\u001b[1;31mAttributeError\u001b[0m                            Traceback (most recent call last)",
      "\u001b[1;32m<ipython-input-12-689637365994>\u001b[0m in \u001b[0;36m<module>\u001b[1;34m\u001b[0m\n\u001b[1;32m----> 1\u001b[1;33m \u001b[0mmatch\u001b[0m\u001b[1;33m.\u001b[0m\u001b[0mspan\u001b[0m\u001b[1;33m\u001b[0m\u001b[1;33m\u001b[0m\u001b[0m\n\u001b[0m",
      "\u001b[1;31mAttributeError\u001b[0m: 'str' object has no attribute 'span'"
     ]
    }
   ],
   "source": [
    "match.span"
   ]
  },
  {
   "cell_type": "markdown",
   "metadata": {},
   "source": [
    "**re.findall(pattern, string)** module is used to search for “all” occurrences that match a given pattern. In contrast, search() module will only return the first occurrence that matches the specified pattern. findall() will iterate over all the lines of the file and will return all non-overlapping matches of pattern in a single step."
   ]
  },
  {
   "cell_type": "code",
   "execution_count": 5,
   "metadata": {},
   "outputs": [
    {
     "name": "stdout",
     "output_type": "stream",
     "text": [
      "['abc', 'abc', 'abc']\n",
      "abc\n",
      "abc\n",
      "abc\n"
     ]
    }
   ],
   "source": [
    "matches = re.findall(r'abc' , text)\n",
    "print(matches)\n",
    "for match in matches:\n",
    "    print(match)"
   ]
  },
  {
   "cell_type": "markdown",
   "metadata": {},
   "source": [
    "**re.finditer(pattern, string)** works exactly the same as the re.findall() method except it returns an iterator yielding match objects matching the regex pattern in a string instead of a list. It scans the string from left-to-right, and matches are returned in the iterator form."
   ]
  },
  {
   "cell_type": "code",
   "execution_count": 13,
   "metadata": {},
   "outputs": [
    {
     "name": "stdout",
     "output_type": "stream",
     "text": [
      "<re.Match object; span=(1, 4), match='abc'>\n",
      "<re.Match object; span=(9, 12), match='abc'>\n",
      "<re.Match object; span=(15, 18), match='abc'>\n"
     ]
    }
   ],
   "source": [
    "matches = re.finditer(r'abc' , text)\n",
    "for match in matches:\n",
    "    print(match)"
   ]
  },
  {
   "cell_type": "markdown",
   "metadata": {},
   "source": [
    "**re.sub(pattern, repl, string)** Return the string obtained by replacing the leftmost non-overlapping occurrences of pattern in string by the replacement repl. If the pattern isn’t found, string is returned unchanged."
   ]
  },
  {
   "cell_type": "code",
   "execution_count": 14,
   "metadata": {},
   "outputs": [
    {
     "name": "stdout",
     "output_type": "stream",
     "text": [
      "\n",
      "xyzdefg\n",
      "xyzde\n",
      "xyz\n",
      "\n"
     ]
    }
   ],
   "source": [
    "match = re.sub(r'abc', r'xyz', text)\n",
    "print(match)"
   ]
  },
  {
   "cell_type": "code",
   "execution_count": 15,
   "metadata": {},
   "outputs": [
    {
     "name": "stdout",
     "output_type": "stream",
     "text": [
      "\n",
      "abcdefg\n",
      "abcde\n",
      "abc\n",
      "\n"
     ]
    }
   ],
   "source": [
    "print(text)"
   ]
  },
  {
   "cell_type": "markdown",
   "metadata": {},
   "source": [
    "## 2. Digits"
   ]
  },
  {
   "cell_type": "markdown",
   "metadata": {},
   "source": [
    "*Over the various examples, you will be introduced to a number of special metacharacters used in regular expressions that can be used to match a specific type of character. In this case, the character \\d can be used in place of any digit from 0 to 9. The preceding slash distinguishes it from the simple d character and indicates that it is a metacharacter.*"
   ]
  },
  {
   "cell_type": "code",
   "execution_count": 16,
   "metadata": {},
   "outputs": [],
   "source": [
    "text=\"\"\"\n",
    "abc123xyz\n",
    "define \"123\"\n",
    "var g = 123;\n",
    "blablabla123bla\n",
    "\"\"\""
   ]
  },
  {
   "cell_type": "code",
   "execution_count": 19,
   "metadata": {},
   "outputs": [
    {
     "name": "stdout",
     "output_type": "stream",
     "text": [
      "['1', '2', '3', '1', '2', '3', '1', '2', '3', '1', '2', '3']\n",
      "1\n",
      "2\n",
      "3\n",
      "1\n",
      "2\n",
      "3\n",
      "1\n",
      "2\n",
      "3\n",
      "1\n",
      "2\n",
      "3\n"
     ]
    }
   ],
   "source": [
    "matches = re.findall(r'\\d' , text, re.MULTILINE)\n",
    "print(matches)\n",
    "for match in matches:\n",
    "    print(match)"
   ]
  },
  {
   "cell_type": "code",
   "execution_count": 18,
   "metadata": {},
   "outputs": [
    {
     "name": "stdout",
     "output_type": "stream",
     "text": [
      "['123', '123', '123', '123']\n",
      "123\n",
      "123\n",
      "123\n",
      "123\n"
     ]
    }
   ],
   "source": [
    "matches = re.findall(r'\\d+' , text, re.MULTILINE)\n",
    "print(matches)\n",
    "for match in matches:\n",
    "    print(match)"
   ]
  },
  {
   "cell_type": "markdown",
   "metadata": {},
   "source": [
    "## 3. Dot wildcard"
   ]
  },
  {
   "cell_type": "markdown",
   "metadata": {},
   "source": [
    "*There is also a concept of a wildcard, which is represented by the . (dot) metacharacter, and can match any single character (letter, digit, whitespace, everything). You may notice that this actually overrides the matching of the period character, so in order to specifically match a period, you need to escape the dot by using a slash \\. accordingly.*"
   ]
  },
  {
   "cell_type": "markdown",
   "metadata": {},
   "source": [
    "cat. - MATCH  \n",
    "896. - MATCH  \n",
    "?=+. - MATCH  \n",
    "abc1 - SKIP"
   ]
  },
  {
   "cell_type": "code",
   "execution_count": null,
   "metadata": {},
   "outputs": [],
   "source": [
    "text=\"\"\"\n",
    "cat.\n",
    "896.\n",
    "?=+.\n",
    "abc1\n",
    "\"\"\""
   ]
  },
  {
   "cell_type": "code",
   "execution_count": null,
   "metadata": {},
   "outputs": [],
   "source": [
    "matches = re.findall(r'\\.' , text, re.MULTILINE)\n",
    "for match in matches:\n",
    "    print(match)"
   ]
  },
  {
   "cell_type": "markdown",
   "metadata": {},
   "source": [
    "## 4. Matching specific characters"
   ]
  },
  {
   "cell_type": "markdown",
   "metadata": {},
   "source": [
    "*There is a method for matching specific characters using regular expressions, by defining them inside square brackets. For example, the pattern [abc] will only match a single a, b, or c letter and nothing else.*"
   ]
  },
  {
   "cell_type": "markdown",
   "metadata": {},
   "source": [
    "can - MATCH  \n",
    "man - MATCH  \n",
    "fan - MATCH  \n",
    "dan - SKIP  \n",
    "ran - SKIP  \n",
    "pan - SKIP  "
   ]
  },
  {
   "cell_type": "code",
   "execution_count": 20,
   "metadata": {},
   "outputs": [],
   "source": [
    "text=\"\"\"\n",
    "can\n",
    "man\n",
    "fan\n",
    "dan\n",
    "ran\n",
    "pan\n",
    "\"\"\""
   ]
  },
  {
   "cell_type": "code",
   "execution_count": 22,
   "metadata": {},
   "outputs": [
    {
     "name": "stdout",
     "output_type": "stream",
     "text": [
      "can\n",
      "man\n",
      "fan\n"
     ]
    }
   ],
   "source": [
    "matches = re.findall(r'[cmf]an' , text, re.MULTILINE)\n",
    "for match in matches:\n",
    "    print(match)"
   ]
  },
  {
   "cell_type": "markdown",
   "metadata": {},
   "source": [
    "## 5. Excluding characters"
   ]
  },
  {
   "cell_type": "markdown",
   "metadata": {},
   "source": [
    "*We use a similar expression that excludes specific characters using the square brackets and the ^ (hat). For example, the pattern [^abc] will match any single character except for the letters a, b, or c.*"
   ]
  },
  {
   "cell_type": "markdown",
   "metadata": {},
   "source": [
    "hog - MATCH  \n",
    "dog - MATCH  \n",
    "bog - SKIP"
   ]
  },
  {
   "cell_type": "code",
   "execution_count": 24,
   "metadata": {},
   "outputs": [],
   "source": [
    "text=\"\"\"\n",
    "hog\n",
    "dog\n",
    "bog\n",
    "\"\"\""
   ]
  },
  {
   "cell_type": "code",
   "execution_count": 26,
   "metadata": {},
   "outputs": [
    {
     "name": "stdout",
     "output_type": "stream",
     "text": [
      "dog\n",
      "bog\n"
     ]
    }
   ],
   "source": [
    "matches = re.findall(r'[^h]og' , text, re.MULTILINE)\n",
    "for match in matches:\n",
    "    print(match)"
   ]
  },
  {
   "cell_type": "markdown",
   "metadata": {},
   "source": [
    "## 6. Matching ranges"
   ]
  },
  {
   "cell_type": "markdown",
   "metadata": {},
   "source": [
    "*Luckily, when using the square bracket notation, there is a shorthand for matching a character in list of sequential characters by using the dash to indicate a character range. For example, the pattern [0-6] will only match any single digit character from zero to six, and nothing else. And likewise, [^n-p] will only match any single character except for letters n to p.*  \n",
    "\n",
    "*Multiple character ranges can also be used in the same set of brackets, along with individual characters. An example of this is the alphanumeric \\w metacharacter which is equivalent to the character range [A-Za-z0-9] and often used to match characters in English text.*"
   ]
  },
  {
   "cell_type": "markdown",
   "metadata": {},
   "source": [
    "Ana - MATCH  \n",
    "Bob - MATCH  \n",
    "Cpc - MATCH  \n",
    "aax - SKIP  \n",
    "bby - SKIP  \n",
    "ccz - SKIP  "
   ]
  },
  {
   "cell_type": "code",
   "execution_count": 43,
   "metadata": {},
   "outputs": [],
   "source": [
    "text=\"\"\"\n",
    "Ana\n",
    "ana\n",
    "Bna\n",
    "Bob\n",
    "Cpc\n",
    "aax\n",
    "bby\n",
    "ccz\n",
    "\"\"\""
   ]
  },
  {
   "cell_type": "code",
   "execution_count": 44,
   "metadata": {},
   "outputs": [
    {
     "name": "stdout",
     "output_type": "stream",
     "text": [
      "Ana\n"
     ]
    }
   ],
   "source": [
    "matches = re.findall(r'Ana' , text, re.MULTILINE)\n",
    "for match in matches:\n",
    "    print(match)"
   ]
  },
  {
   "cell_type": "code",
   "execution_count": 45,
   "metadata": {},
   "outputs": [
    {
     "name": "stdout",
     "output_type": "stream",
     "text": [
      "Ana\n",
      "ana\n"
     ]
    }
   ],
   "source": [
    "matches = re.findall(r'Ana' , text, re.MULTILINE | re.IGNORECASE)\n",
    "for match in matches:\n",
    "    print(match)"
   ]
  },
  {
   "cell_type": "code",
   "execution_count": 46,
   "metadata": {},
   "outputs": [
    {
     "name": "stdout",
     "output_type": "stream",
     "text": [
      "Ana\n",
      "Bna\n"
     ]
    }
   ],
   "source": [
    "matches = re.findall(r'[A-C]na' , text, re.MULTILINE)\n",
    "for match in matches:\n",
    "    print(match)"
   ]
  },
  {
   "cell_type": "code",
   "execution_count": 47,
   "metadata": {},
   "outputs": [
    {
     "name": "stdout",
     "output_type": "stream",
     "text": [
      "Ana\n",
      "Bna\n",
      "Bob\n",
      "Cpc\n"
     ]
    }
   ],
   "source": [
    "matches = re.findall(r'[A-C]\\w+' , text, re.MULTILINE)\n",
    "for match in matches:\n",
    "    print(match)"
   ]
  },
  {
   "cell_type": "markdown",
   "metadata": {},
   "source": [
    "## 7. Repetitions part 1"
   ]
  },
  {
   "cell_type": "markdown",
   "metadata": {},
   "source": [
    "*We've so far learned how to specify the range of characters we want to match, but how about the number of repetitions of characters that we want to match? One way that we can do this is to explicitly spell out exactly how many characters we want, eg. \\d\\d\\d which would match exactly three digits.*\n",
    "\n",
    "*A more convenient way is to specify how many repetitions of each character we want using the curly braces notation. For example, a{3} will match the a character exactly three times. Certain regular expression engines will even allow you to specify a range for this repetition such that a{1,3} will match the a character no more than 3 times, but no less than once for example.*\n",
    "\n",
    "*This quantifier can be used with any character, or special metacharacters, for example w{3} (three w's), [wxy]{5} (five characters, each of which can be a w, x, or y) and .{2,6} (between two and six of any character).*"
   ]
  },
  {
   "cell_type": "markdown",
   "metadata": {},
   "source": [
    "wazzzzzup - MATCH  \n",
    "wazzzup - MATCH  \n",
    "wazup - SKIP  "
   ]
  },
  {
   "cell_type": "code",
   "execution_count": 48,
   "metadata": {},
   "outputs": [],
   "source": [
    "text=\"\"\"\n",
    "wazzzzzup\n",
    "wazzzup\n",
    "wazup\n",
    "\"\"\""
   ]
  },
  {
   "cell_type": "code",
   "execution_count": 53,
   "metadata": {},
   "outputs": [
    {
     "name": "stdout",
     "output_type": "stream",
     "text": [
      "wazzzzzup\n",
      "wazzzup\n"
     ]
    }
   ],
   "source": [
    "matches = re.findall(r'waz{3,5}up' , text, re.MULTILINE)\n",
    "for match in matches:\n",
    "    print(match)"
   ]
  },
  {
   "cell_type": "markdown",
   "metadata": {},
   "source": [
    "## 8. Repetitions part 2"
   ]
  },
  {
   "cell_type": "markdown",
   "metadata": {},
   "source": [
    "*Another useful tools are Kleene Star and the Kleene Plus, which essentially represents either 0 or more or 1 or more of the character that it follows (it always follows a character or group). For example, we can use the pattern \\d\\* to match any number of digits, but a tighter regular expression would be \\d+ which ensures that the input string has at least one digit.*\n",
    "\n",
    "*These quantifiers can be used with any character or special metacharacters, for example a+ (one or more a's), [abc]+ (one or more of any a, b, or c character) and .\\* (zero or more of any character).*"
   ]
  },
  {
   "cell_type": "markdown",
   "metadata": {},
   "source": [
    "aaaabcc - MATCH  \n",
    "aabbbbc - MATCH  \n",
    "aacc - MATCH  \n",
    "a - SKIP  "
   ]
  },
  {
   "cell_type": "code",
   "execution_count": 62,
   "metadata": {},
   "outputs": [],
   "source": [
    "text=\"\"\"\n",
    "aaaabcc\n",
    "aabbbbc\n",
    "aacc\n",
    "a\n",
    "\"\"\""
   ]
  },
  {
   "cell_type": "code",
   "execution_count": 63,
   "metadata": {},
   "outputs": [
    {
     "name": "stdout",
     "output_type": "stream",
     "text": [
      "aaaabcc\n",
      "aabbbbc\n",
      "aacc\n"
     ]
    }
   ],
   "source": [
    "matches = re.findall(r'a+b*c+' , text, re.MULTILINE)\n",
    "for match in matches:\n",
    "    print(match)"
   ]
  },
  {
   "cell_type": "markdown",
   "metadata": {},
   "source": [
    "## 9. Optional character"
   ]
  },
  {
   "cell_type": "markdown",
   "metadata": {},
   "source": [
    "*Another quantifier that is really common when matching and extracting text is the ? (question mark) metacharacter which denotes optionality. This metacharacter allows you to match either zero or one of the preceding character or group. For example, the pattern ab?c will match either the strings \"abc\" or \"ac\" because the b is considered optional.*\n",
    "\n",
    "*Similar to the dot metacharacter, the question mark is a special character and you will have to escape it using a slash \\? to match a plain question mark character in a string.*"
   ]
  },
  {
   "cell_type": "markdown",
   "metadata": {},
   "source": [
    "1 file found? - MATCH  \n",
    "2 files found? - MATCH  \n",
    "24 files found? - MATCH  \n",
    "No files found. - SKIP"
   ]
  },
  {
   "cell_type": "code",
   "execution_count": 64,
   "metadata": {},
   "outputs": [],
   "source": [
    "text=\"\"\" \n",
    "1 file found?\n",
    "2 files found?\n",
    "24 files found?\n",
    "No files found.\n",
    "\"\"\""
   ]
  },
  {
   "cell_type": "code",
   "execution_count": 74,
   "metadata": {},
   "outputs": [
    {
     "name": "stdout",
     "output_type": "stream",
     "text": [
      "1 file found?\n",
      "2 files found?\n",
      "24 files found?\n"
     ]
    }
   ],
   "source": [
    "matches = re.findall(r'.+\\?' , text, re.MULTILINE)\n",
    "for match in matches:\n",
    "    print(match)"
   ]
  },
  {
   "cell_type": "code",
   "execution_count": 76,
   "metadata": {},
   "outputs": [
    {
     "name": "stdout",
     "output_type": "stream",
     "text": [
      "1 file found?\n",
      "2 files found?\n",
      "24 files found?\n"
     ]
    }
   ],
   "source": [
    "matches = re.findall(r'\\d.+' , text, re.MULTILINE)\n",
    "for match in matches:\n",
    "    print(match)"
   ]
  },
  {
   "cell_type": "markdown",
   "metadata": {},
   "source": [
    "## 10. Whitespaces"
   ]
  },
  {
   "cell_type": "markdown",
   "metadata": {},
   "source": [
    "*The most common forms of whitespace you will use with regular expressions are the space (␣), the tab (\\t), the new line (\\n) and the carriage return (\\r) (useful in Windows environments), and these special characters match each of their respective whitespaces. In addition, a whitespace special character \\s will match any of the specific whitespaces above and is extremely useful when dealing with raw input text.*"
   ]
  },
  {
   "cell_type": "markdown",
   "metadata": {},
   "source": [
    "1. abc - MATCH  \n",
    "2.        abc - MATCH  \n",
    "3.           abc - MATCH  \n",
    "4\\.abc - SKIP"
   ]
  },
  {
   "cell_type": "code",
   "execution_count": 77,
   "metadata": {},
   "outputs": [],
   "source": [
    "text=\"\"\"\n",
    "1. abc \n",
    "2.    abc\n",
    "3.           abc\n",
    "4.abc\n",
    "\"\"\""
   ]
  },
  {
   "cell_type": "code",
   "execution_count": 81,
   "metadata": {},
   "outputs": [
    {
     "name": "stdout",
     "output_type": "stream",
     "text": [
      "1. abc \n",
      "2.    abc\n",
      "3.           abc\n"
     ]
    }
   ],
   "source": [
    "matches = re.findall(r'\\d\\. .+' , text, re.MULTILINE)\n",
    "for match in matches:\n",
    "    print(match)"
   ]
  },
  {
   "cell_type": "code",
   "execution_count": 84,
   "metadata": {},
   "outputs": [
    {
     "name": "stdout",
     "output_type": "stream",
     "text": [
      "1. abc \n",
      "2.    abc\n",
      "3.           abc\n"
     ]
    }
   ],
   "source": [
    "matches = re.findall(r'\\d\\.\\s.+' , text, re.MULTILINE)\n",
    "for match in matches:\n",
    "    print(match)"
   ]
  },
  {
   "cell_type": "markdown",
   "metadata": {},
   "source": [
    "## 11. Starting and ending"
   ]
  },
  {
   "cell_type": "markdown",
   "metadata": {},
   "source": [
    "Mission: successful - MATCH  \n",
    "Last Mission: unsuccessful - SKIP  \n",
    "Next Mission: successful upon capture of target - SKIP  "
   ]
  },
  {
   "cell_type": "code",
   "execution_count": 85,
   "metadata": {},
   "outputs": [],
   "source": [
    "text=\"\"\"\n",
    "Mission: successful\n",
    "Last Mission: unsuccessful\n",
    "Next Mission: successful upon capture of target\n",
    "\"\"\""
   ]
  },
  {
   "cell_type": "code",
   "execution_count": 88,
   "metadata": {},
   "outputs": [
    {
     "name": "stdout",
     "output_type": "stream",
     "text": [
      "Mission: successful\n"
     ]
    }
   ],
   "source": [
    "matches = re.findall(r'^M.+' , text, re.MULTILINE)\n",
    "for match in matches:\n",
    "    print(match)"
   ]
  },
  {
   "cell_type": "code",
   "execution_count": 91,
   "metadata": {},
   "outputs": [
    {
     "name": "stdout",
     "output_type": "stream",
     "text": [
      "Mission: successful\n"
     ]
    }
   ],
   "source": [
    "matches = re.findall(r'.+\\ssuccessful$' , text, re.MULTILINE)\n",
    "for match in matches:\n",
    "    print(match)"
   ]
  },
  {
   "cell_type": "code",
   "execution_count": 93,
   "metadata": {},
   "outputs": [
    {
     "name": "stdout",
     "output_type": "stream",
     "text": [
      "Mission: successful\n"
     ]
    }
   ],
   "source": [
    "matches = re.findall(r'.+ successful$' , text, re.MULTILINE)\n",
    "for match in matches:\n",
    "    print(match)"
   ]
  },
  {
   "cell_type": "markdown",
   "metadata": {},
   "source": [
    "## 12. Match groups"
   ]
  },
  {
   "cell_type": "markdown",
   "metadata": {},
   "source": [
    "*Regular expressions allow us to not just match text but also to extract information for further processing. This is done by defining groups of characters and capturing them using the special parentheses ( and ) metacharacters. Any subpattern inside a pair of parentheses will be captured as a group. In practice, this can be used to extract information like phone numbers or emails from all sorts of data.*\n",
    "\n",
    "*Imagine for example that you had a command line tool to list all the image files you have in the cloud. You could then use a pattern such as ^(IMG\\d+\\.png)\\\\$ to capture and extract the full filename, but if you only wanted to capture the filename without the extension, you could use the pattern ^(IMG\\d+)\\.png\\\\$ which only captures the part before the period.*"
   ]
  },
  {
   "cell_type": "markdown",
   "metadata": {},
   "source": [
    "file_record_transcript.pdf - CAPTURE: file_record_transcript  \n",
    "file_07241999.pdf - CAPTURE: file_07241999  \n",
    "testfile_fake.pdf.tmp - SKIP"
   ]
  },
  {
   "cell_type": "code",
   "execution_count": 94,
   "metadata": {},
   "outputs": [],
   "source": [
    "text=\"\"\"\n",
    "file_record_transcript.pdf\n",
    "file_07241999.pdf\n",
    "testfile_fake.pdf.tmp\n",
    "\"\"\""
   ]
  },
  {
   "cell_type": "code",
   "execution_count": 97,
   "metadata": {},
   "outputs": [
    {
     "name": "stdout",
     "output_type": "stream",
     "text": [
      "file_record_transcript.pdf\n",
      "file_07241999.pdf\n"
     ]
    }
   ],
   "source": [
    "matches = re.findall(r'.+.pdf$' , text, re.MULTILINE)\n",
    "for match in matches:\n",
    "    print(match)"
   ]
  },
  {
   "cell_type": "code",
   "execution_count": 99,
   "metadata": {},
   "outputs": [
    {
     "name": "stdout",
     "output_type": "stream",
     "text": [
      "file_record_transcript\n",
      "file_07241999\n"
     ]
    }
   ],
   "source": [
    "# () jen to v zavrce se zabrazi\n",
    "matches = re.findall(r'(.+).pdf$' , text, re.MULTILINE)\n",
    "for match in matches:\n",
    "    print(match)"
   ]
  },
  {
   "cell_type": "markdown",
   "metadata": {},
   "source": [
    "## 13. Nested groups"
   ]
  },
  {
   "cell_type": "markdown",
   "metadata": {},
   "source": [
    "*When you are working with complex data, you can easily find yourself having to extract multiple layers of information, which can result in nested groups. Generally, the results of the captured groups are in the order in which they are defined (in order by open parenthesis).*\n",
    "\n",
    "*Take the example from the previous lesson, of capturing the filenames of all the image files you have in a list. If each of these image files had a sequential picture number in the filename, you could extract both the filename and the picture number using the same pattern by writing an expression like ^(IMG(\\d+))\\.png\\\\$ (using a nested parenthesis to capture the digits).*"
   ]
  },
  {
   "cell_type": "markdown",
   "metadata": {},
   "source": [
    "Jan 1987 - CAPTURE: Jan 1987, 1987  \n",
    "May 1969 - CAPTURE: May 1969, 1969  \n",
    "Aug 2011 - CAPTURE: Aug 2011, 2011"
   ]
  },
  {
   "cell_type": "code",
   "execution_count": 124,
   "metadata": {},
   "outputs": [],
   "source": [
    "text=\"\"\"\n",
    "Jan 1987\n",
    "May 1969\n",
    "Aug 2011\n",
    "\"\"\""
   ]
  },
  {
   "cell_type": "code",
   "execution_count": 127,
   "metadata": {},
   "outputs": [
    {
     "name": "stdout",
     "output_type": "stream",
     "text": [
      "('Jan 1987', '1987')\n",
      "('May 1969', '1969')\n",
      "('Aug 2011', '2011')\n"
     ]
    }
   ],
   "source": [
    "matches = re.findall(r'(.+ (\\d+$))' , text, re.MULTILINE)\n",
    "for match in matches:\n",
    "    print(match)"
   ]
  },
  {
   "cell_type": "markdown",
   "metadata": {},
   "source": [
    "## 14. OR"
   ]
  },
  {
   "cell_type": "markdown",
   "metadata": {},
   "source": [
    "*Specifically when using groups, you can use the | (logical OR, aka. the pipe) to denote different possible sets of characters. In the above example, I can write the pattern \"Buy more (milk|bread|juice)\" to match only the strings Buy more milk, Buy more bread, or Buy more juice.*\n",
    "\n",
    "*Like normal groups, you can use any sequence of characters or metacharacters in a condition, for example, ([cb]ats\\*|[dh]ogs?) would match either cats or bats, or, dogs or hogs. Writing patterns with many conditions can be hard to read, so you should consider making them separate patterns if they get too complex.*"
   ]
  },
  {
   "cell_type": "markdown",
   "metadata": {},
   "source": [
    "I love cats - MATCH  \n",
    "I love dogs - MATCH  \n",
    "I love logs - SKIP  \n",
    "I love cogs - SKIP"
   ]
  },
  {
   "cell_type": "code",
   "execution_count": 129,
   "metadata": {},
   "outputs": [],
   "source": [
    "text=\"\"\"\n",
    "I love cats\n",
    "I love dogs\n",
    "I love logs\n",
    "I love cogs\n",
    "\"\"\""
   ]
  },
  {
   "cell_type": "code",
   "execution_count": 130,
   "metadata": {},
   "outputs": [
    {
     "name": "stdout",
     "output_type": "stream",
     "text": [
      "('I love cats', 'cats')\n",
      "('I love dogs', 'dogs')\n"
     ]
    }
   ],
   "source": [
    "matches = re.findall(r'(I love (cats|dogs))' , text, re.MULTILINE)\n",
    "for match in matches:\n",
    "    print(match)"
   ]
  },
  {
   "cell_type": "code",
   "execution_count": 133,
   "metadata": {},
   "outputs": [
    {
     "name": "stdout",
     "output_type": "stream",
     "text": [
      "I love cats\n",
      "I love dogs\n"
     ]
    }
   ],
   "source": [
    "matches = re.findall(r'I love cats|I love dogs' , text, re.MULTILINE)\n",
    "for match in matches:\n",
    "    print(match)"
   ]
  },
  {
   "cell_type": "code",
   "execution_count": 134,
   "metadata": {},
   "outputs": [
    {
     "name": "stdout",
     "output_type": "stream",
     "text": [
      "I love c\n",
      "I love d\n",
      "I love c\n"
     ]
    }
   ],
   "source": [
    "matches = re.findall(r'I love [cats|dogs]' , text, re.MULTILINE)\n",
    "for match in matches:\n",
    "    print(match)"
   ]
  },
  {
   "cell_type": "markdown",
   "metadata": {},
   "source": [
    "# Problems"
   ]
  },
  {
   "cell_type": "markdown",
   "metadata": {},
   "source": [
    "## 1. Problem"
   ]
  },
  {
   "cell_type": "markdown",
   "metadata": {},
   "source": [
    "3.14529 - MATCH  \n",
    "-255.34 - MATCH  \n",
    "128 - MATCH  \n",
    "1.9e10 - MATCH  \n",
    "123,340.00 - MATCH  \n",
    "720p - SKIP"
   ]
  },
  {
   "cell_type": "code",
   "execution_count": 135,
   "metadata": {},
   "outputs": [],
   "source": [
    "text=\"\"\"\n",
    "3.14529\n",
    "-255.34\n",
    "128\n",
    "1.9e10\n",
    "123,340.00\n",
    "720p\n",
    "\"\"\""
   ]
  },
  {
   "cell_type": "code",
   "execution_count": 144,
   "metadata": {},
   "outputs": [
    {
     "name": "stdout",
     "output_type": "stream",
     "text": [
      "3.14529\n",
      "-255.34\n",
      "128\n",
      "1.9e10\n",
      "123,340.00\n"
     ]
    }
   ],
   "source": [
    "matches = re.findall(r'.+\\d$' , text, re.MULTILINE)\n",
    "for match in matches:\n",
    "    print(match)"
   ]
  },
  {
   "cell_type": "markdown",
   "metadata": {},
   "source": [
    "## 2. Problem"
   ]
  },
  {
   "cell_type": "markdown",
   "metadata": {},
   "source": [
    "415-555-1234 - CAPTURE: 415  \n",
    "650-555-2345 - CAPTURE: 650  \n",
    "(416)555-3456 - CAPTURE: 416  \n",
    "202 555 4567 - CAPTURE: 202  \n",
    "4035555678 - CAPTURE: 403  \n",
    "1 416 555 9292 - CAPTURE: 416"
   ]
  },
  {
   "cell_type": "code",
   "execution_count": 145,
   "metadata": {},
   "outputs": [],
   "source": [
    "text=\"\"\"\n",
    "415-555-1234\n",
    "650-555-2345\n",
    "(416)555-3456\n",
    "202 555 4567\n",
    "4035555678\n",
    "1 416 555 9292\n",
    "\"\"\""
   ]
  },
  {
   "cell_type": "code",
   "execution_count": 162,
   "metadata": {},
   "outputs": [
    {
     "name": "stdout",
     "output_type": "stream",
     "text": [
      "415\n",
      "650\n",
      "416\n",
      "202\n",
      "403\n",
      "416\n"
     ]
    }
   ],
   "source": [
    "matches = re.findall(r'^\\d{3}|416', text, re.MULTILINE)\n",
    "for match in matches:\n",
    "    print(match)"
   ]
  },
  {
   "cell_type": "markdown",
   "metadata": {},
   "source": [
    "## 3. Problem"
   ]
  },
  {
   "cell_type": "markdown",
   "metadata": {},
   "source": [
    "tom@hogwarts.com - CAPTURE: tom  \n",
    "tom.riddle@hogwarts.com - CAPTURE: tom.riddle  \n",
    "tom.riddle+regexone@hogwarts.com - CAPTURE: tom.riddle  \n",
    "tom@hogwarts.eu.com - CAPTURE: tom  \n",
    "potter@hogwarts.com - CAPTURE: potter  \n",
    "harry@hogwarts.com - CAPTURE: harry  \n",
    "hermione+regexone@hogwarts.com - CAPTURE: hermione"
   ]
  },
  {
   "cell_type": "code",
   "execution_count": 183,
   "metadata": {},
   "outputs": [],
   "source": [
    "text=\"\"\"\n",
    "tom@hogwarts.com\n",
    "tom.riddle@hogwarts.com\n",
    "tom.riddle+regexone@hogwarts.com\n",
    "tom@hogwarts.eu.com\n",
    "potter@hogwarts.com\n",
    "harry@hogwarts.com\n",
    "hermione+regexone@hogwarts.com\n",
    "\"\"\""
   ]
  },
  {
   "cell_type": "code",
   "execution_count": 184,
   "metadata": {},
   "outputs": [
    {
     "name": "stdout",
     "output_type": "stream",
     "text": [
      "tom\n",
      "tom.riddle\n",
      "tom.riddle+regexone\n",
      "tom\n",
      "potter\n",
      "harry\n",
      "hermione+regexone\n"
     ]
    }
   ],
   "source": [
    "matches = re.findall(r'(.+)@.+' , text, re.MULTILINE)\n",
    "for match in matches:\n",
    "    print(match)"
   ]
  },
  {
   "cell_type": "markdown",
   "metadata": {},
   "source": [
    "## 4. Problem"
   ]
  },
  {
   "cell_type": "markdown",
   "metadata": {},
   "source": [
    ".bash_profile - SKIP  \n",
    "workspace.doc - SKIP  \n",
    "img0912.jpg - CAPTURE: img0912 jpg  \n",
    "updated_img0912.png - CAPTURE: updated_img0912 png   \n",
    "documentation.html - SKIP  \n",
    "favicon.gif - CAPTURE: favicon gif  \n",
    "img0912.jpg.tmp - SKIP  \n",
    "access.lock - SKIP"
   ]
  },
  {
   "cell_type": "code",
   "execution_count": 179,
   "metadata": {},
   "outputs": [],
   "source": [
    "text=\"\"\"\n",
    ".bash_profile\n",
    "workspace.doc\n",
    "img0912.jpg\n",
    "updated_img0912.png\n",
    "documentation.html\n",
    "favicon.gif\n",
    "img0912.jpg.tmp\n",
    "access.lock\n",
    "\"\"\""
   ]
  },
  {
   "cell_type": "code",
   "execution_count": 180,
   "metadata": {},
   "outputs": [
    {
     "name": "stdout",
     "output_type": "stream",
     "text": [
      "\n",
      "\n",
      "\n",
      "\n",
      "\n",
      "\n",
      "\n",
      "\n",
      "\n",
      "\n",
      "\n",
      "\n",
      "\n",
      "\n",
      "\n",
      "\n",
      "\n",
      "\n",
      "\n",
      "\n",
      "\n",
      "\n",
      "\n",
      "\n",
      "\n",
      "\n",
      "\n",
      "\n",
      "\n",
      "\n",
      "\n",
      "\n",
      "\n",
      "\n",
      "\n",
      "\n",
      "\n",
      "\n",
      "\n",
      "\n",
      "\n",
      "\n",
      "\n",
      "\n",
      "\n",
      "\n",
      "\n",
      "\n",
      "\n",
      "\n",
      "\n",
      "\n",
      "\n",
      "\n",
      "\n",
      "\n",
      "\n",
      "\n",
      "\n",
      "\n",
      "\n",
      "\n",
      "\n",
      "\n",
      "\n",
      "\n",
      "\n",
      "\n",
      "\n",
      "\n",
      "\n",
      "\n",
      "\n",
      "\n",
      "\n",
      "\n",
      "\n",
      "\n",
      "\n",
      "\n",
      "\n",
      "\n",
      "\n",
      "\n",
      "\n",
      "\n",
      "\n",
      "\n",
      "\n",
      "\n",
      "\n",
      "\n",
      "\n",
      "\n",
      "\n",
      "\n",
      "\n",
      "\n",
      "\n",
      "\n",
      "\n",
      "\n",
      "\n",
      "\n",
      "\n",
      "\n",
      "\n",
      "\n",
      "\n",
      "\n",
      "\n",
      "\n",
      "\n",
      "\n",
      "\n",
      "\n",
      "\n",
      "\n",
      "\n",
      "\n",
      "\n"
     ]
    }
   ],
   "source": [
    "matches = re.findall(r'' , text, re.MULTILINE)\n",
    "for match in matches:\n",
    "    print(match)"
   ]
  },
  {
   "cell_type": "markdown",
   "metadata": {},
   "source": [
    "## 5. Problem"
   ]
  },
  {
   "cell_type": "markdown",
   "metadata": {},
   "source": [
    "       The quick brown fox... - CAPTURE:The quick brown fox...\n",
    " jumps over the lazy dog. - CAPTURE:jumps over the lazy dog."
   ]
  },
  {
   "cell_type": "code",
   "execution_count": 189,
   "metadata": {},
   "outputs": [],
   "source": [
    "text=\"\"\"\n",
    "       The quick brown fox...\n",
    " jumps over the lazy dog.\n",
    "\"\"\""
   ]
  },
  {
   "cell_type": "code",
   "execution_count": 190,
   "metadata": {},
   "outputs": [],
   "source": [
    "matches = re.findall(r'\\$.+' , text, re.MULTILINE)\n",
    "for match in matches:\n",
    "    print(match)"
   ]
  },
  {
   "cell_type": "markdown",
   "metadata": {},
   "source": [
    "## 6. Problem"
   ]
  },
  {
   "cell_type": "markdown",
   "metadata": {},
   "source": [
    "W/dalvikvm( 1553): threadid=1: uncaught exception - SKIP  \n",
    "E/( 1553): FATAL EXCEPTION: main - SKIP  \n",
    "E/( 1553): java.lang.StringIndexOutOfBoundsException - SKIP  \n",
    "E/( 1553):   at widget.List.makeView(ListView.java:1727) - CAPTURE: makeView, ListView.java, 1727  \n",
    "E/( 1553):   at widget.List.fillDown(ListView.java:652) - CAPTURE: fillDown, ListView.java, 652  \n",
    "E/( 1553):   at widget.List.fillFrom(ListView.java:709) - CAPTURE: fillFrom, ListView.java, 709"
   ]
  },
  {
   "cell_type": "code",
   "execution_count": 231,
   "metadata": {},
   "outputs": [],
   "source": [
    "text=\"\"\"\n",
    "W/dalvikvm( 1553): threadid=1: uncaught exception\n",
    "E/( 1553): FATAL EXCEPTION: main2\n",
    "E/( 1553): java.lang.StringIndexOutOfBoundsException\n",
    "E/( 1553): at widget.List.makeView(ListView.java:1727)\n",
    "E/( 1553): at widget.List.fillDown(ListView.java:652)\n",
    "E/( 1553): at widget.List.fillFrom(ListView.java:709)\n",
    "\"\"\""
   ]
  },
  {
   "cell_type": "code",
   "execution_count": 232,
   "metadata": {},
   "outputs": [],
   "source": [
    "matches = re.findall(r'\\$.+' , text, re.MULTILINE)\n",
    "for match in matches:\n",
    "    print(match)"
   ]
  },
  {
   "cell_type": "markdown",
   "metadata": {},
   "source": [
    "## 7. Problem"
   ]
  },
  {
   "cell_type": "markdown",
   "metadata": {},
   "source": [
    "ftp://file_server.com:21/top_secret/life_changing_plans.pdf CAPTURE: ftp, file_server.com, 21  \n",
    "https://regexone.com/lesson/introduction#section CAPTURE: https, regexone.com  \n",
    "file://localhost:4040/zip_file CAPTURE: file, localhost, 4040  \n",
    "https://s3cur3-server.com:9999/ CAPTURE: https, s3cur3-server.com, 9999  \n",
    "market://search/angry%20birds CAPTURE: market, search"
   ]
  },
  {
   "cell_type": "code",
   "execution_count": 243,
   "metadata": {},
   "outputs": [],
   "source": [
    "text=\"\"\"\n",
    "ftp://file_server.com:21/top_secret/life_changing_plans.pdf\n",
    "https://regexone.com/lesson/introduction#section\n",
    "file://localhost:4040/zip_file\n",
    "https://s3cur3-server.com:9999/\n",
    "market://search/angry%20birds\n",
    "\"\"\""
   ]
  },
  {
   "cell_type": "code",
   "execution_count": 250,
   "metadata": {},
   "outputs": [
    {
     "name": "stdout",
     "output_type": "stream",
     "text": [
      "('ftp', 'file_server.com:21/top_secret', 'life_changing_plans.pdf')\n",
      "('https', 'regexone.com/lesson', 'introduction#section')\n",
      "('file', 'localhost:4040', 'zip_file')\n",
      "('https', 's3cur3-server.com', '9999/')\n",
      "('market', 'search', 'angry%20birds')\n"
     ]
    }
   ],
   "source": [
    "matches = re.findall(r'(^[f,h,m].{1,5}[p,s,e,t])://(.+)[:,/](.+)' , text, re.MULTILINE)\n",
    "for match in matches:\n",
    "    print(match)"
   ]
  },
  {
   "cell_type": "markdown",
   "metadata": {},
   "source": [
    "## Tools"
   ]
  },
  {
   "cell_type": "markdown",
   "metadata": {},
   "source": [
    "- https://www.debuggex.com/\n",
    "- https://regex101.com/\n",
    "- https://regexone.com/"
   ]
  }
 ],
 "metadata": {
  "kernelspec": {
   "display_name": "Python 3",
   "language": "python",
   "name": "python3"
  },
  "language_info": {
   "codemirror_mode": {
    "name": "ipython",
    "version": 3
   },
   "file_extension": ".py",
   "mimetype": "text/x-python",
   "name": "python",
   "nbconvert_exporter": "python",
   "pygments_lexer": "ipython3",
   "version": "3.8.6"
  }
 },
 "nbformat": 4,
 "nbformat_minor": 5
}
